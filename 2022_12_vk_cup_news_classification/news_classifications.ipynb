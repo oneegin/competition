{
 "cells": [
  {
   "cell_type": "markdown",
   "id": "be2fb4fb",
   "metadata": {},
   "source": [
    "# Описание задачи\n",
    "\n",
    "Сообщества ВКонтакте могут принадлежать одной из нескольких заранее заданных категорий, среди спортивных сообществ есть достаточно сильное разделение по тематикам! Одни и те же авторы могут писать только об одном виде спорта или сразу о большом количестве. По заданному набору постов необходимо определить тематику — какой именно вид спорта обсуждается в выбранном сообществе.\n",
    "\n",
    "Список доступных категорий:\n",
    "1. athletics\n",
    "2. autosport\n",
    "3. basketball\n",
    "4. boardgames\n",
    "5. esport\n",
    "6. extreme\n",
    "7. football\n",
    "8. hockey\n",
    "9. martial_arts\n",
    "10. motosport\n",
    "11. tennis\n",
    "12. volleyball\n",
    "13. winter_sport\n",
    "\n",
    "Нестандартная метрика:\n",
    "* За каждый правильный ответ вы получите +1.\n",
    "* За каждый неправильный ответ вы получите −1.\n",
    "\n",
    "Можно отправлять решения, в которых категория отмечена не для каждого сообщества.\n",
    "\n",
    "https://cups.online/ru/tasks/1417"
   ]
  },
  {
   "cell_type": "markdown",
   "id": "395f5d4a",
   "metadata": {},
   "source": [
    " # Содержание:\n",
    " * [Импорт библиотек](#2-title)\n",
    " * [Загрузка данных](#3-title)\n",
    " * [Разделение на train и test](#4-title) \n",
    " * [Обработка данных](#5-title)\n",
    " * [Обучение CatBoost](#6-title) \n",
    " * [Предсказание](#7-title)"
   ]
  },
  {
   "cell_type": "code",
   "execution_count": 1,
   "id": "110e9de6",
   "metadata": {
    "ExecuteTime": {
     "end_time": "2023-02-19T22:54:23.423531Z",
     "start_time": "2023-02-19T22:54:23.421848Z"
    }
   },
   "outputs": [],
   "source": [
    "# если делаем в COLAB\n",
    "COLAB = False"
   ]
  },
  {
   "cell_type": "markdown",
   "id": "e7cd1d8c",
   "metadata": {},
   "source": [
    "# Импорт библиотек\n",
    "<a id='2-title'></a>"
   ]
  },
  {
   "cell_type": "code",
   "execution_count": 2,
   "id": "8ae619dc",
   "metadata": {
    "ExecuteTime": {
     "end_time": "2023-02-19T22:54:24.144179Z",
     "start_time": "2023-02-19T22:54:23.427527Z"
    }
   },
   "outputs": [],
   "source": [
    "import pandas as pd\n",
    "import numpy as np\n",
    "# модели\n",
    "from catboost import CatBoostClassifier\n",
    "from sklearn.model_selection import train_test_split\n",
    "from sklearn.multiclass import OneVsRestClassifier\n",
    "from sklearn.metrics import log_loss\n",
    "# время\n",
    "from datetime import datetime\n",
    "# работа с текстом\n",
    "import re\n",
    "import nltk\n",
    "from pymystem3 import Mystem\n",
    "m = Mystem()\n",
    "from nltk.corpus import stopwords\n",
    "stopwords = stopwords.words(\"russian\")\n",
    "from pymorphy2 import MorphAnalyzer\n",
    "morph = MorphAnalyzer()\n",
    "# отображение\n",
    "pd.options.display.max_rows = 40\n",
    "import warnings\n",
    "warnings.filterwarnings('ignore')\n",
    "# если делаем в colab подключим \n",
    "if COLAB:\n",
    "    from google.colab import drive\n",
    "    drive.mount('/content/drive')"
   ]
  },
  {
   "cell_type": "code",
   "execution_count": 3,
   "id": "dfb1baa8",
   "metadata": {
    "ExecuteTime": {
     "end_time": "2023-02-19T22:54:24.146879Z",
     "start_time": "2023-02-19T22:54:24.145044Z"
    }
   },
   "outputs": [
    {
     "name": "stdout",
     "output_type": "stream",
     "text": [
      "Время запуска 2023-02-20 01:54:24.145616\n"
     ]
    }
   ],
   "source": [
    "# время запуска ноутбука\n",
    "time_start_all = datetime.now()\n",
    "print(f'Время запуска {time_start_all}')\n",
    "# если делаем в COLAB то путь другой\n",
    "if COLAB:\n",
    "    path = '/content/drive/MyDrive/01_competions/2022_12_vk_cup_news_classification/input'\n",
    "else:\n",
    "    path = 'input/'"
   ]
  },
  {
   "cell_type": "code",
   "execution_count": 4,
   "id": "50bca7aa",
   "metadata": {
    "ExecuteTime": {
     "end_time": "2023-02-19T22:54:24.148864Z",
     "start_time": "2023-02-19T22:54:24.147571Z"
    }
   },
   "outputs": [],
   "source": [
    "sports = ['athletics', 'autosport','basketball','boardgames','esport','extreme','football',\n",
    "          'hockey','martial_arts','motosport','tennis','volleyball','winter_sport']"
   ]
  },
  {
   "cell_type": "markdown",
   "id": "25b2566d",
   "metadata": {},
   "source": [
    "# Загрузка данных\n",
    "<a id='3-title'></a>"
   ]
  },
  {
   "cell_type": "code",
   "execution_count": 5,
   "id": "7ea88dda",
   "metadata": {
    "ExecuteTime": {
     "end_time": "2023-02-19T22:54:24.638871Z",
     "start_time": "2023-02-19T22:54:24.149548Z"
    }
   },
   "outputs": [
    {
     "name": "stdout",
     "output_type": "stream",
     "text": [
      "CPU times: user 448 ms, sys: 29.5 ms, total: 478 ms\n",
      "Wall time: 487 ms\n"
     ]
    }
   ],
   "source": [
    "%%time\n",
    "train = pd.read_csv(path + 'train.csv')\n",
    "test = pd.read_csv(path + 'test.csv')\n",
    "sample_submission = pd.read_csv(path + 'sample_submission.csv')"
   ]
  },
  {
   "cell_type": "code",
   "execution_count": 6,
   "id": "d1c20a91",
   "metadata": {
    "ExecuteTime": {
     "end_time": "2023-02-19T22:54:24.653011Z",
     "start_time": "2023-02-19T22:54:24.639732Z"
    }
   },
   "outputs": [
    {
     "name": "stdout",
     "output_type": "stream",
     "text": [
      "<class 'pandas.core.frame.DataFrame'>\n",
      "RangeIndex: 38740 entries, 0 to 38739\n",
      "Data columns (total 3 columns):\n",
      " #   Column    Non-Null Count  Dtype \n",
      "---  ------    --------------  ----- \n",
      " 0   oid       38740 non-null  int64 \n",
      " 1   category  38740 non-null  object\n",
      " 2   text      38740 non-null  object\n",
      "dtypes: int64(1), object(2)\n",
      "memory usage: 908.1+ KB\n"
     ]
    },
    {
     "data": {
      "text/html": [
       "<div>\n",
       "<style scoped>\n",
       "    .dataframe tbody tr th:only-of-type {\n",
       "        vertical-align: middle;\n",
       "    }\n",
       "\n",
       "    .dataframe tbody tr th {\n",
       "        vertical-align: top;\n",
       "    }\n",
       "\n",
       "    .dataframe thead th {\n",
       "        text-align: right;\n",
       "    }\n",
       "</style>\n",
       "<table border=\"1\" class=\"dataframe\">\n",
       "  <thead>\n",
       "    <tr style=\"text-align: right;\">\n",
       "      <th></th>\n",
       "      <th>oid</th>\n",
       "      <th>category</th>\n",
       "      <th>text</th>\n",
       "    </tr>\n",
       "  </thead>\n",
       "  <tbody>\n",
       "    <tr>\n",
       "      <th>0</th>\n",
       "      <td>365271984</td>\n",
       "      <td>winter_sport</td>\n",
       "      <td>Волшебные фото Виктория Поплавская ЕвгенияМедв...</td>\n",
       "    </tr>\n",
       "    <tr>\n",
       "      <th>1</th>\n",
       "      <td>503385563</td>\n",
       "      <td>extreme</td>\n",
       "      <td>Возвращение в подземелье Треша 33 Эйфория тупо...</td>\n",
       "    </tr>\n",
       "    <tr>\n",
       "      <th>2</th>\n",
       "      <td>146016084</td>\n",
       "      <td>football</td>\n",
       "      <td>Лучшие чешские вратари – Доминик Доминатор Гаш...</td>\n",
       "    </tr>\n",
       "    <tr>\n",
       "      <th>3</th>\n",
       "      <td>933865449</td>\n",
       "      <td>boardgames</td>\n",
       "      <td>Rtokenoid Warhammer40k валрак решил нас подкор...</td>\n",
       "    </tr>\n",
       "    <tr>\n",
       "      <th>4</th>\n",
       "      <td>713550145</td>\n",
       "      <td>hockey</td>\n",
       "      <td>Шестеркин затаскивает Рейнджерс в финал Восточ...</td>\n",
       "    </tr>\n",
       "  </tbody>\n",
       "</table>\n",
       "</div>"
      ],
      "text/plain": [
       "         oid      category                                               text\n",
       "0  365271984  winter_sport  Волшебные фото Виктория Поплавская ЕвгенияМедв...\n",
       "1  503385563       extreme  Возвращение в подземелье Треша 33 Эйфория тупо...\n",
       "2  146016084      football  Лучшие чешские вратари – Доминик Доминатор Гаш...\n",
       "3  933865449    boardgames  Rtokenoid Warhammer40k валрак решил нас подкор...\n",
       "4  713550145        hockey  Шестеркин затаскивает Рейнджерс в финал Восточ..."
      ]
     },
     "execution_count": 6,
     "metadata": {},
     "output_type": "execute_result"
    }
   ],
   "source": [
    "train.info()\n",
    "train.head()"
   ]
  },
  {
   "cell_type": "code",
   "execution_count": 7,
   "id": "d1d5cbc1",
   "metadata": {
    "ExecuteTime": {
     "end_time": "2023-02-19T22:54:24.657479Z",
     "start_time": "2023-02-19T22:54:24.653841Z"
    }
   },
   "outputs": [
    {
     "data": {
      "text/plain": [
       "autosport       3160\n",
       "extreme         3110\n",
       "martial_arts    3050\n",
       "motosport       3030\n",
       "boardgames      3020\n",
       "tennis          3000\n",
       "esport          2990\n",
       "athletics       2970\n",
       "hockey          2950\n",
       "volleyball      2950\n",
       "football        2860\n",
       "basketball      2850\n",
       "winter_sport    2800\n",
       "Name: category, dtype: int64"
      ]
     },
     "execution_count": 7,
     "metadata": {},
     "output_type": "execute_result"
    }
   ],
   "source": [
    "train['category'].value_counts()"
   ]
  },
  {
   "cell_type": "code",
   "execution_count": 8,
   "id": "5674a125",
   "metadata": {
    "ExecuteTime": {
     "end_time": "2023-02-19T22:54:24.666665Z",
     "start_time": "2023-02-19T22:54:24.659750Z"
    }
   },
   "outputs": [
    {
     "name": "stdout",
     "output_type": "stream",
     "text": [
      "<class 'pandas.core.frame.DataFrame'>\n",
      "RangeIndex: 26260 entries, 0 to 26259\n",
      "Data columns (total 2 columns):\n",
      " #   Column  Non-Null Count  Dtype \n",
      "---  ------  --------------  ----- \n",
      " 0   oid     26260 non-null  int64 \n",
      " 1   text    26260 non-null  object\n",
      "dtypes: int64(1), object(1)\n",
      "memory usage: 410.4+ KB\n"
     ]
    },
    {
     "data": {
      "text/html": [
       "<div>\n",
       "<style scoped>\n",
       "    .dataframe tbody tr th:only-of-type {\n",
       "        vertical-align: middle;\n",
       "    }\n",
       "\n",
       "    .dataframe tbody tr th {\n",
       "        vertical-align: top;\n",
       "    }\n",
       "\n",
       "    .dataframe thead th {\n",
       "        text-align: right;\n",
       "    }\n",
       "</style>\n",
       "<table border=\"1\" class=\"dataframe\">\n",
       "  <thead>\n",
       "    <tr style=\"text-align: right;\">\n",
       "      <th></th>\n",
       "      <th>oid</th>\n",
       "      <th>text</th>\n",
       "    </tr>\n",
       "  </thead>\n",
       "  <tbody>\n",
       "    <tr>\n",
       "      <th>0</th>\n",
       "      <td>749208109</td>\n",
       "      <td>СПОЧНО СООБЩЕСТВО ПРОДАЕТСЯ ЗА 1300Р ЗА ПОКУПК...</td>\n",
       "    </tr>\n",
       "    <tr>\n",
       "      <th>1</th>\n",
       "      <td>452466036</td>\n",
       "      <td>Естественное восстановление после тяжелой трен...</td>\n",
       "    </tr>\n",
       "    <tr>\n",
       "      <th>2</th>\n",
       "      <td>161038103</td>\n",
       "      <td>Тема нарядов продолжается Одна из британских ж...</td>\n",
       "    </tr>\n",
       "    <tr>\n",
       "      <th>3</th>\n",
       "      <td>663621910</td>\n",
       "      <td>Привет Избранный. Ты спрашиваешь себя ЧТО здес...</td>\n",
       "    </tr>\n",
       "    <tr>\n",
       "      <th>4</th>\n",
       "      <td>566255305</td>\n",
       "      <td>КОРОЛЬ ПЯТИСОТНИКОВ В ДЕЛЕ Андрей Рублев успеш...</td>\n",
       "    </tr>\n",
       "  </tbody>\n",
       "</table>\n",
       "</div>"
      ],
      "text/plain": [
       "         oid                                               text\n",
       "0  749208109  СПОЧНО СООБЩЕСТВО ПРОДАЕТСЯ ЗА 1300Р ЗА ПОКУПК...\n",
       "1  452466036  Естественное восстановление после тяжелой трен...\n",
       "2  161038103  Тема нарядов продолжается Одна из британских ж...\n",
       "3  663621910  Привет Избранный. Ты спрашиваешь себя ЧТО здес...\n",
       "4  566255305  КОРОЛЬ ПЯТИСОТНИКОВ В ДЕЛЕ Андрей Рублев успеш..."
      ]
     },
     "execution_count": 8,
     "metadata": {},
     "output_type": "execute_result"
    }
   ],
   "source": [
    "test.info()\n",
    "test.head()"
   ]
  },
  {
   "cell_type": "code",
   "execution_count": 9,
   "id": "ad43df90",
   "metadata": {
    "ExecuteTime": {
     "end_time": "2023-02-19T22:54:24.670374Z",
     "start_time": "2023-02-19T22:54:24.668414Z"
    }
   },
   "outputs": [
    {
     "name": "stdout",
     "output_type": "stream",
     "text": [
      "Строк в train: 38740, столбцов: 3. Строк в test: 26260, столбцов: 2\n"
     ]
    }
   ],
   "source": [
    "SIZE_TRAIN = train.shape\n",
    "SIZE_TEST = test.shape\n",
    "print(f'Строк в train: {SIZE_TRAIN[0]}, столбцов: {SIZE_TRAIN[1]}. Строк в test: {SIZE_TEST[0]}, столбцов: {SIZE_TEST[1]}')"
   ]
  },
  {
   "cell_type": "markdown",
   "id": "3f0e59e5",
   "metadata": {},
   "source": [
    "# Обработка данных\n",
    "<a id='3-title'></a>"
   ]
  },
  {
   "cell_type": "code",
   "execution_count": 10,
   "id": "574ff0e3",
   "metadata": {
    "ExecuteTime": {
     "end_time": "2023-02-19T22:54:24.841479Z",
     "start_time": "2023-02-19T22:54:24.671157Z"
    }
   },
   "outputs": [],
   "source": [
    "# в нижний регистр\n",
    "train['text'] = train['text'].str.lower()\n",
    "test['text'] = test['text'].str.lower()\n",
    "# переход на новую строку\n",
    "train['text'] = train['text'].str.replace('\\n',' ')\n",
    "test['text'] = test['text'].str.replace('\\n',' ')\n",
    "# двойные пробелы\n",
    "train['text'] = train['text'].str.replace('  ',' ')  \n",
    "test['text'] = test['text'].str.replace('  ',' ')"
   ]
  },
  {
   "cell_type": "code",
   "execution_count": 11,
   "id": "bf955bed",
   "metadata": {
    "ExecuteTime": {
     "end_time": "2023-02-19T22:54:24.997198Z",
     "start_time": "2023-02-19T22:54:24.842346Z"
    }
   },
   "outputs": [],
   "source": [
    "# заменим возможноые символы на пустой символ, используем регулярки\n",
    "train['text'] =  train['text'].apply(lambda x: re.sub(r'[.|,|?|!|\\'|\"|#|)|(|\\|/|–]',r'', str(x)))\n",
    "test['text'] =  test['text'].apply(lambda x: re.sub(r'[.|,|?|!|\\'|\"|#|)|(|\\|/|–]',r'', str(x)))"
   ]
  },
  {
   "cell_type": "code",
   "execution_count": 12,
   "id": "e2d33ddf",
   "metadata": {
    "ExecuteTime": {
     "end_time": "2023-02-19T22:54:25.005060Z",
     "start_time": "2023-02-19T22:54:24.998064Z"
    }
   },
   "outputs": [],
   "source": [
    "def lemmatize(doc):\n",
    "    '''\n",
    "    лемма слов\n",
    "    '''\n",
    "    tokens = []\n",
    "    for token in str(doc).split():\n",
    "        if token not in stopwords:\n",
    "            # удалим пробелы\n",
    "            token = token.strip()\n",
    "            # нормальной форма слова\n",
    "            token = morph.normal_forms(token)[0]\n",
    "            tokens.append(token)\n",
    "    return ' '.join(tokens)"
   ]
  },
  {
   "cell_type": "code",
   "execution_count": 13,
   "id": "67d62511",
   "metadata": {
    "ExecuteTime": {
     "end_time": "2023-02-19T22:57:19.766318Z",
     "start_time": "2023-02-19T22:54:25.006075Z"
    }
   },
   "outputs": [
    {
     "name": "stdout",
     "output_type": "stream",
     "text": [
      "CPU times: user 2min 53s, sys: 313 ms, total: 2min 54s\n",
      "Wall time: 2min 54s\n"
     ]
    }
   ],
   "source": [
    "%%time\n",
    "train['text'] = train['text'].apply(lemmatize)\n",
    "test['text'] = test['text'].apply(lemmatize)"
   ]
  },
  {
   "cell_type": "code",
   "execution_count": 14,
   "id": "22d2ce4b",
   "metadata": {
    "ExecuteTime": {
     "end_time": "2023-02-19T22:57:19.770612Z",
     "start_time": "2023-02-19T22:57:19.768108Z"
    }
   },
   "outputs": [],
   "source": [
    "# список для удаления\n",
    "del_list = ['реклама']"
   ]
  },
  {
   "cell_type": "code",
   "execution_count": 15,
   "id": "8373f6a2",
   "metadata": {
    "ExecuteTime": {
     "end_time": "2023-02-19T22:57:19.823355Z",
     "start_time": "2023-02-19T22:57:19.772051Z"
    }
   },
   "outputs": [],
   "source": [
    "# удалим строки со словами из del_list\n",
    "test = test[~test['text'].str.contains('|'.join(del_list))].reset_index(drop=True)\n",
    "train = train[~train['text'].str.contains('|'.join(del_list))].reset_index(drop=True)"
   ]
  },
  {
   "cell_type": "code",
   "execution_count": 16,
   "id": "9e55d6a3",
   "metadata": {
    "ExecuteTime": {
     "end_time": "2023-02-19T22:57:19.847894Z",
     "start_time": "2023-02-19T22:57:19.824305Z"
    }
   },
   "outputs": [],
   "source": [
    "# добавим столбцы с видом спорта\n",
    "for sport in sports:\n",
    "    # создадим стоблец классов и заполним его 1 для train\n",
    "    train[sport] = 0\n",
    "    train[sport] = np.where(train['category'] == sport, 1, 0)\n",
    "    # для тест все заполним 0\n",
    "    test[sport] = 0"
   ]
  },
  {
   "cell_type": "markdown",
   "id": "e734c175",
   "metadata": {},
   "source": [
    "# Разделение на train и test\n",
    "<a id='5-title'></a>"
   ]
  },
  {
   "cell_type": "code",
   "execution_count": 17,
   "id": "5f437d79",
   "metadata": {
    "ExecuteTime": {
     "end_time": "2023-02-19T22:57:19.857651Z",
     "start_time": "2023-02-19T22:57:19.848785Z"
    }
   },
   "outputs": [],
   "source": [
    "X_train, X_val, y_train, y_val = train_test_split(pd.DataFrame(train['text']), train[train.columns[3:]], test_size=0.2)"
   ]
  },
  {
   "cell_type": "markdown",
   "id": "f96a5cc7",
   "metadata": {},
   "source": [
    "# Обучение модели CatBoost\n",
    "<a id='6-title'></a>"
   ]
  },
  {
   "cell_type": "code",
   "execution_count": 18,
   "id": "4c9e5d45",
   "metadata": {
    "ExecuteTime": {
     "end_time": "2023-02-19T23:02:13.671842Z",
     "start_time": "2023-02-19T22:57:19.858685Z"
    }
   },
   "outputs": [
    {
     "name": "stdout",
     "output_type": "stream",
     "text": [
      "Время запуска обучения 2023-02-20 01:57:19.860054\n",
      "Время обучения 0:04:53.809151\n"
     ]
    }
   ],
   "source": [
    "# текущее время\n",
    "start_time = datetime.now()\n",
    "print(f'Время запуска обучения {start_time}')\n",
    "model = OneVsRestClassifier(estimator=CatBoostClassifier(iterations = 100, \n",
    "                                                         text_features=['text'],\n",
    "                                                         depth=8,\n",
    "                                                         random_state=42,\n",
    "                                                         verbose = False, \n",
    "                                                         allow_writing_files=False))\n",
    "\n",
    "X_train = pd.DataFrame(train['text'])\n",
    "y_train = train[train.columns[3:]]\n",
    "model.fit(X_train, y_train)\n",
    "time_fit_CBR = datetime.now() - start_time\n",
    "# время обучения\n",
    "print(f'Время обучения {time_fit_CBR}')"
   ]
  },
  {
   "cell_type": "markdown",
   "id": "b784d1de",
   "metadata": {},
   "source": [
    "# Предсказание\n",
    "<a id='7-title'></a>"
   ]
  },
  {
   "cell_type": "code",
   "execution_count": 19,
   "id": "1add6eed",
   "metadata": {
    "ExecuteTime": {
     "end_time": "2023-02-19T23:02:14.877625Z",
     "start_time": "2023-02-19T23:02:13.673433Z"
    }
   },
   "outputs": [],
   "source": [
    "result_columns = ['oid'] + list(train.columns[3:])\n",
    "result = pd.concat([test['oid'], pd.DataFrame(model.predict_proba(pd.DataFrame(test['text']))[:, :])], axis=1)\n",
    "result.columns = result_columns"
   ]
  },
  {
   "cell_type": "code",
   "execution_count": 20,
   "id": "65ff8f54",
   "metadata": {
    "ExecuteTime": {
     "end_time": "2023-02-19T23:02:14.885104Z",
     "start_time": "2023-02-19T23:02:14.878710Z"
    }
   },
   "outputs": [
    {
     "data": {
      "text/html": [
       "<div>\n",
       "<style scoped>\n",
       "    .dataframe tbody tr th:only-of-type {\n",
       "        vertical-align: middle;\n",
       "    }\n",
       "\n",
       "    .dataframe tbody tr th {\n",
       "        vertical-align: top;\n",
       "    }\n",
       "\n",
       "    .dataframe thead th {\n",
       "        text-align: right;\n",
       "    }\n",
       "</style>\n",
       "<table border=\"1\" class=\"dataframe\">\n",
       "  <thead>\n",
       "    <tr style=\"text-align: right;\">\n",
       "      <th></th>\n",
       "      <th>oid</th>\n",
       "      <th>athletics</th>\n",
       "      <th>autosport</th>\n",
       "      <th>basketball</th>\n",
       "      <th>boardgames</th>\n",
       "      <th>esport</th>\n",
       "      <th>extreme</th>\n",
       "      <th>football</th>\n",
       "      <th>hockey</th>\n",
       "      <th>martial_arts</th>\n",
       "      <th>motosport</th>\n",
       "      <th>tennis</th>\n",
       "      <th>volleyball</th>\n",
       "      <th>winter_sport</th>\n",
       "    </tr>\n",
       "  </thead>\n",
       "  <tbody>\n",
       "    <tr>\n",
       "      <th>0</th>\n",
       "      <td>749208109</td>\n",
       "      <td>0.008600</td>\n",
       "      <td>0.242814</td>\n",
       "      <td>0.005969</td>\n",
       "      <td>0.005552</td>\n",
       "      <td>0.790736</td>\n",
       "      <td>0.204166</td>\n",
       "      <td>0.034019</td>\n",
       "      <td>0.015290</td>\n",
       "      <td>0.057105</td>\n",
       "      <td>0.009482</td>\n",
       "      <td>0.001583</td>\n",
       "      <td>0.031137</td>\n",
       "      <td>0.003776</td>\n",
       "    </tr>\n",
       "    <tr>\n",
       "      <th>1</th>\n",
       "      <td>452466036</td>\n",
       "      <td>0.422075</td>\n",
       "      <td>0.000825</td>\n",
       "      <td>0.002184</td>\n",
       "      <td>0.000440</td>\n",
       "      <td>0.003239</td>\n",
       "      <td>0.005186</td>\n",
       "      <td>0.003268</td>\n",
       "      <td>0.003405</td>\n",
       "      <td>0.116597</td>\n",
       "      <td>0.001037</td>\n",
       "      <td>0.001328</td>\n",
       "      <td>0.003021</td>\n",
       "      <td>0.002504</td>\n",
       "    </tr>\n",
       "    <tr>\n",
       "      <th>2</th>\n",
       "      <td>161038103</td>\n",
       "      <td>0.001535</td>\n",
       "      <td>0.002371</td>\n",
       "      <td>0.003055</td>\n",
       "      <td>0.000541</td>\n",
       "      <td>0.005797</td>\n",
       "      <td>0.008057</td>\n",
       "      <td>0.003839</td>\n",
       "      <td>0.001830</td>\n",
       "      <td>0.003743</td>\n",
       "      <td>0.001787</td>\n",
       "      <td>0.968961</td>\n",
       "      <td>0.002967</td>\n",
       "      <td>0.002760</td>\n",
       "    </tr>\n",
       "    <tr>\n",
       "      <th>3</th>\n",
       "      <td>663621910</td>\n",
       "      <td>0.003773</td>\n",
       "      <td>0.008893</td>\n",
       "      <td>0.002611</td>\n",
       "      <td>0.477045</td>\n",
       "      <td>0.636929</td>\n",
       "      <td>0.078541</td>\n",
       "      <td>0.004733</td>\n",
       "      <td>0.002228</td>\n",
       "      <td>0.002096</td>\n",
       "      <td>0.003355</td>\n",
       "      <td>0.002223</td>\n",
       "      <td>0.009809</td>\n",
       "      <td>0.005544</td>\n",
       "    </tr>\n",
       "    <tr>\n",
       "      <th>4</th>\n",
       "      <td>566255305</td>\n",
       "      <td>0.001709</td>\n",
       "      <td>0.001292</td>\n",
       "      <td>0.002727</td>\n",
       "      <td>0.000349</td>\n",
       "      <td>0.002287</td>\n",
       "      <td>0.005470</td>\n",
       "      <td>0.005013</td>\n",
       "      <td>0.003215</td>\n",
       "      <td>0.002721</td>\n",
       "      <td>0.001334</td>\n",
       "      <td>0.908595</td>\n",
       "      <td>0.006954</td>\n",
       "      <td>0.002158</td>\n",
       "    </tr>\n",
       "  </tbody>\n",
       "</table>\n",
       "</div>"
      ],
      "text/plain": [
       "         oid  athletics  autosport  basketball  boardgames    esport  \\\n",
       "0  749208109   0.008600   0.242814    0.005969    0.005552  0.790736   \n",
       "1  452466036   0.422075   0.000825    0.002184    0.000440  0.003239   \n",
       "2  161038103   0.001535   0.002371    0.003055    0.000541  0.005797   \n",
       "3  663621910   0.003773   0.008893    0.002611    0.477045  0.636929   \n",
       "4  566255305   0.001709   0.001292    0.002727    0.000349  0.002287   \n",
       "\n",
       "    extreme  football    hockey  martial_arts  motosport    tennis  \\\n",
       "0  0.204166  0.034019  0.015290      0.057105   0.009482  0.001583   \n",
       "1  0.005186  0.003268  0.003405      0.116597   0.001037  0.001328   \n",
       "2  0.008057  0.003839  0.001830      0.003743   0.001787  0.968961   \n",
       "3  0.078541  0.004733  0.002228      0.002096   0.003355  0.002223   \n",
       "4  0.005470  0.005013  0.003215      0.002721   0.001334  0.908595   \n",
       "\n",
       "   volleyball  winter_sport  \n",
       "0    0.031137      0.003776  \n",
       "1    0.003021      0.002504  \n",
       "2    0.002967      0.002760  \n",
       "3    0.009809      0.005544  \n",
       "4    0.006954      0.002158  "
      ]
     },
     "execution_count": 20,
     "metadata": {},
     "output_type": "execute_result"
    }
   ],
   "source": [
    "result.head()"
   ]
  },
  {
   "cell_type": "code",
   "execution_count": 21,
   "id": "136e24f7",
   "metadata": {
    "ExecuteTime": {
     "end_time": "2023-02-19T23:02:14.895361Z",
     "start_time": "2023-02-19T23:02:14.885953Z"
    }
   },
   "outputs": [
    {
     "data": {
      "text/html": [
       "<div>\n",
       "<style scoped>\n",
       "    .dataframe tbody tr th:only-of-type {\n",
       "        vertical-align: middle;\n",
       "    }\n",
       "\n",
       "    .dataframe tbody tr th {\n",
       "        vertical-align: top;\n",
       "    }\n",
       "\n",
       "    .dataframe thead th {\n",
       "        text-align: right;\n",
       "    }\n",
       "</style>\n",
       "<table border=\"1\" class=\"dataframe\">\n",
       "  <thead>\n",
       "    <tr style=\"text-align: right;\">\n",
       "      <th></th>\n",
       "      <th>oid</th>\n",
       "      <th>athletics</th>\n",
       "      <th>autosport</th>\n",
       "      <th>basketball</th>\n",
       "      <th>boardgames</th>\n",
       "      <th>esport</th>\n",
       "      <th>extreme</th>\n",
       "      <th>football</th>\n",
       "      <th>hockey</th>\n",
       "      <th>martial_arts</th>\n",
       "      <th>motosport</th>\n",
       "      <th>tennis</th>\n",
       "      <th>volleyball</th>\n",
       "      <th>winter_sport</th>\n",
       "    </tr>\n",
       "  </thead>\n",
       "  <tbody>\n",
       "    <tr>\n",
       "      <th>0</th>\n",
       "      <td>1622114</td>\n",
       "      <td>0.965117</td>\n",
       "      <td>0.089316</td>\n",
       "      <td>0.042452</td>\n",
       "      <td>0.036038</td>\n",
       "      <td>0.118628</td>\n",
       "      <td>0.153360</td>\n",
       "      <td>0.072242</td>\n",
       "      <td>0.064647</td>\n",
       "      <td>0.123255</td>\n",
       "      <td>0.168502</td>\n",
       "      <td>0.011452</td>\n",
       "      <td>0.043777</td>\n",
       "      <td>0.050593</td>\n",
       "    </tr>\n",
       "    <tr>\n",
       "      <th>1</th>\n",
       "      <td>1663817</td>\n",
       "      <td>0.123397</td>\n",
       "      <td>0.996154</td>\n",
       "      <td>0.036676</td>\n",
       "      <td>0.070922</td>\n",
       "      <td>0.084052</td>\n",
       "      <td>0.146934</td>\n",
       "      <td>0.054854</td>\n",
       "      <td>0.218151</td>\n",
       "      <td>0.170665</td>\n",
       "      <td>0.190265</td>\n",
       "      <td>0.011452</td>\n",
       "      <td>0.019550</td>\n",
       "      <td>0.403692</td>\n",
       "    </tr>\n",
       "    <tr>\n",
       "      <th>2</th>\n",
       "      <td>3174332</td>\n",
       "      <td>0.004450</td>\n",
       "      <td>0.025565</td>\n",
       "      <td>0.984025</td>\n",
       "      <td>0.022653</td>\n",
       "      <td>0.044477</td>\n",
       "      <td>0.057994</td>\n",
       "      <td>0.070334</td>\n",
       "      <td>0.345951</td>\n",
       "      <td>0.058160</td>\n",
       "      <td>0.021503</td>\n",
       "      <td>0.010311</td>\n",
       "      <td>0.059267</td>\n",
       "      <td>0.015027</td>\n",
       "    </tr>\n",
       "    <tr>\n",
       "      <th>3</th>\n",
       "      <td>3469228</td>\n",
       "      <td>0.049705</td>\n",
       "      <td>0.056619</td>\n",
       "      <td>0.054402</td>\n",
       "      <td>0.833325</td>\n",
       "      <td>0.585422</td>\n",
       "      <td>0.820507</td>\n",
       "      <td>0.277808</td>\n",
       "      <td>0.052437</td>\n",
       "      <td>0.295790</td>\n",
       "      <td>0.024520</td>\n",
       "      <td>0.011452</td>\n",
       "      <td>0.020346</td>\n",
       "      <td>0.265751</td>\n",
       "    </tr>\n",
       "    <tr>\n",
       "      <th>4</th>\n",
       "      <td>3905302</td>\n",
       "      <td>0.117803</td>\n",
       "      <td>0.038636</td>\n",
       "      <td>0.034088</td>\n",
       "      <td>0.987753</td>\n",
       "      <td>0.059264</td>\n",
       "      <td>0.095679</td>\n",
       "      <td>0.157404</td>\n",
       "      <td>0.034790</td>\n",
       "      <td>0.167206</td>\n",
       "      <td>0.065435</td>\n",
       "      <td>0.011286</td>\n",
       "      <td>0.041205</td>\n",
       "      <td>0.503817</td>\n",
       "    </tr>\n",
       "  </tbody>\n",
       "</table>\n",
       "</div>"
      ],
      "text/plain": [
       "       oid  athletics  autosport  basketball  boardgames    esport   extreme  \\\n",
       "0  1622114   0.965117   0.089316    0.042452    0.036038  0.118628  0.153360   \n",
       "1  1663817   0.123397   0.996154    0.036676    0.070922  0.084052  0.146934   \n",
       "2  3174332   0.004450   0.025565    0.984025    0.022653  0.044477  0.057994   \n",
       "3  3469228   0.049705   0.056619    0.054402    0.833325  0.585422  0.820507   \n",
       "4  3905302   0.117803   0.038636    0.034088    0.987753  0.059264  0.095679   \n",
       "\n",
       "   football    hockey  martial_arts  motosport    tennis  volleyball  \\\n",
       "0  0.072242  0.064647      0.123255   0.168502  0.011452    0.043777   \n",
       "1  0.054854  0.218151      0.170665   0.190265  0.011452    0.019550   \n",
       "2  0.070334  0.345951      0.058160   0.021503  0.010311    0.059267   \n",
       "3  0.277808  0.052437      0.295790   0.024520  0.011452    0.020346   \n",
       "4  0.157404  0.034790      0.167206   0.065435  0.011286    0.041205   \n",
       "\n",
       "   winter_sport  \n",
       "0      0.050593  \n",
       "1      0.403692  \n",
       "2      0.015027  \n",
       "3      0.265751  \n",
       "4      0.503817  "
      ]
     },
     "execution_count": 21,
     "metadata": {},
     "output_type": "execute_result"
    }
   ],
   "source": [
    "# группируем по oid выбирая максмальную вероятность в группировке\n",
    "submission = result.groupby('oid')[result_columns[1:]].max().rename_axis('oid').reset_index()\n",
    "submission.head()"
   ]
  },
  {
   "cell_type": "code",
   "execution_count": 22,
   "id": "c3ce1655",
   "metadata": {
    "ExecuteTime": {
     "end_time": "2023-02-19T23:02:14.900287Z",
     "start_time": "2023-02-19T23:02:14.896326Z"
    }
   },
   "outputs": [
    {
     "name": "stdout",
     "output_type": "stream",
     "text": [
      "<class 'pandas.core.frame.DataFrame'>\n",
      "RangeIndex: 2626 entries, 0 to 2625\n",
      "Data columns (total 14 columns):\n",
      " #   Column        Non-Null Count  Dtype  \n",
      "---  ------        --------------  -----  \n",
      " 0   oid           2626 non-null   int64  \n",
      " 1   athletics     2626 non-null   float64\n",
      " 2   autosport     2626 non-null   float64\n",
      " 3   basketball    2626 non-null   float64\n",
      " 4   boardgames    2626 non-null   float64\n",
      " 5   esport        2626 non-null   float64\n",
      " 6   extreme       2626 non-null   float64\n",
      " 7   football      2626 non-null   float64\n",
      " 8   hockey        2626 non-null   float64\n",
      " 9   martial_arts  2626 non-null   float64\n",
      " 10  motosport     2626 non-null   float64\n",
      " 11  tennis        2626 non-null   float64\n",
      " 12  volleyball    2626 non-null   float64\n",
      " 13  winter_sport  2626 non-null   float64\n",
      "dtypes: float64(13), int64(1)\n",
      "memory usage: 287.3 KB\n"
     ]
    }
   ],
   "source": [
    "submission.info()"
   ]
  },
  {
   "cell_type": "code",
   "execution_count": 23,
   "id": "d7f80a41",
   "metadata": {
    "ExecuteTime": {
     "end_time": "2023-02-19T23:02:14.905054Z",
     "start_time": "2023-02-19T23:02:14.901316Z"
    }
   },
   "outputs": [],
   "source": [
    "submission['category'] = submission[result_columns[1:]].idxmax(axis=1)"
   ]
  },
  {
   "cell_type": "code",
   "execution_count": 24,
   "id": "7a1375e0",
   "metadata": {
    "ExecuteTime": {
     "end_time": "2023-02-19T23:02:14.911722Z",
     "start_time": "2023-02-19T23:02:14.905996Z"
    }
   },
   "outputs": [
    {
     "data": {
      "text/html": [
       "<div>\n",
       "<style scoped>\n",
       "    .dataframe tbody tr th:only-of-type {\n",
       "        vertical-align: middle;\n",
       "    }\n",
       "\n",
       "    .dataframe tbody tr th {\n",
       "        vertical-align: top;\n",
       "    }\n",
       "\n",
       "    .dataframe thead th {\n",
       "        text-align: right;\n",
       "    }\n",
       "</style>\n",
       "<table border=\"1\" class=\"dataframe\">\n",
       "  <thead>\n",
       "    <tr style=\"text-align: right;\">\n",
       "      <th></th>\n",
       "      <th>oid</th>\n",
       "      <th>athletics</th>\n",
       "      <th>autosport</th>\n",
       "      <th>basketball</th>\n",
       "      <th>boardgames</th>\n",
       "      <th>esport</th>\n",
       "      <th>extreme</th>\n",
       "      <th>football</th>\n",
       "      <th>hockey</th>\n",
       "      <th>martial_arts</th>\n",
       "      <th>motosport</th>\n",
       "      <th>tennis</th>\n",
       "      <th>volleyball</th>\n",
       "      <th>winter_sport</th>\n",
       "      <th>category</th>\n",
       "    </tr>\n",
       "  </thead>\n",
       "  <tbody>\n",
       "    <tr>\n",
       "      <th>0</th>\n",
       "      <td>1622114</td>\n",
       "      <td>0.965117</td>\n",
       "      <td>0.089316</td>\n",
       "      <td>0.042452</td>\n",
       "      <td>0.036038</td>\n",
       "      <td>0.118628</td>\n",
       "      <td>0.153360</td>\n",
       "      <td>0.072242</td>\n",
       "      <td>0.064647</td>\n",
       "      <td>0.123255</td>\n",
       "      <td>0.168502</td>\n",
       "      <td>0.011452</td>\n",
       "      <td>0.043777</td>\n",
       "      <td>0.050593</td>\n",
       "      <td>athletics</td>\n",
       "    </tr>\n",
       "    <tr>\n",
       "      <th>1</th>\n",
       "      <td>1663817</td>\n",
       "      <td>0.123397</td>\n",
       "      <td>0.996154</td>\n",
       "      <td>0.036676</td>\n",
       "      <td>0.070922</td>\n",
       "      <td>0.084052</td>\n",
       "      <td>0.146934</td>\n",
       "      <td>0.054854</td>\n",
       "      <td>0.218151</td>\n",
       "      <td>0.170665</td>\n",
       "      <td>0.190265</td>\n",
       "      <td>0.011452</td>\n",
       "      <td>0.019550</td>\n",
       "      <td>0.403692</td>\n",
       "      <td>autosport</td>\n",
       "    </tr>\n",
       "    <tr>\n",
       "      <th>2</th>\n",
       "      <td>3174332</td>\n",
       "      <td>0.004450</td>\n",
       "      <td>0.025565</td>\n",
       "      <td>0.984025</td>\n",
       "      <td>0.022653</td>\n",
       "      <td>0.044477</td>\n",
       "      <td>0.057994</td>\n",
       "      <td>0.070334</td>\n",
       "      <td>0.345951</td>\n",
       "      <td>0.058160</td>\n",
       "      <td>0.021503</td>\n",
       "      <td>0.010311</td>\n",
       "      <td>0.059267</td>\n",
       "      <td>0.015027</td>\n",
       "      <td>basketball</td>\n",
       "    </tr>\n",
       "    <tr>\n",
       "      <th>3</th>\n",
       "      <td>3469228</td>\n",
       "      <td>0.049705</td>\n",
       "      <td>0.056619</td>\n",
       "      <td>0.054402</td>\n",
       "      <td>0.833325</td>\n",
       "      <td>0.585422</td>\n",
       "      <td>0.820507</td>\n",
       "      <td>0.277808</td>\n",
       "      <td>0.052437</td>\n",
       "      <td>0.295790</td>\n",
       "      <td>0.024520</td>\n",
       "      <td>0.011452</td>\n",
       "      <td>0.020346</td>\n",
       "      <td>0.265751</td>\n",
       "      <td>boardgames</td>\n",
       "    </tr>\n",
       "    <tr>\n",
       "      <th>4</th>\n",
       "      <td>3905302</td>\n",
       "      <td>0.117803</td>\n",
       "      <td>0.038636</td>\n",
       "      <td>0.034088</td>\n",
       "      <td>0.987753</td>\n",
       "      <td>0.059264</td>\n",
       "      <td>0.095679</td>\n",
       "      <td>0.157404</td>\n",
       "      <td>0.034790</td>\n",
       "      <td>0.167206</td>\n",
       "      <td>0.065435</td>\n",
       "      <td>0.011286</td>\n",
       "      <td>0.041205</td>\n",
       "      <td>0.503817</td>\n",
       "      <td>boardgames</td>\n",
       "    </tr>\n",
       "  </tbody>\n",
       "</table>\n",
       "</div>"
      ],
      "text/plain": [
       "       oid  athletics  autosport  basketball  boardgames    esport   extreme  \\\n",
       "0  1622114   0.965117   0.089316    0.042452    0.036038  0.118628  0.153360   \n",
       "1  1663817   0.123397   0.996154    0.036676    0.070922  0.084052  0.146934   \n",
       "2  3174332   0.004450   0.025565    0.984025    0.022653  0.044477  0.057994   \n",
       "3  3469228   0.049705   0.056619    0.054402    0.833325  0.585422  0.820507   \n",
       "4  3905302   0.117803   0.038636    0.034088    0.987753  0.059264  0.095679   \n",
       "\n",
       "   football    hockey  martial_arts  motosport    tennis  volleyball  \\\n",
       "0  0.072242  0.064647      0.123255   0.168502  0.011452    0.043777   \n",
       "1  0.054854  0.218151      0.170665   0.190265  0.011452    0.019550   \n",
       "2  0.070334  0.345951      0.058160   0.021503  0.010311    0.059267   \n",
       "3  0.277808  0.052437      0.295790   0.024520  0.011452    0.020346   \n",
       "4  0.157404  0.034790      0.167206   0.065435  0.011286    0.041205   \n",
       "\n",
       "   winter_sport    category  \n",
       "0      0.050593   athletics  \n",
       "1      0.403692   autosport  \n",
       "2      0.015027  basketball  \n",
       "3      0.265751  boardgames  \n",
       "4      0.503817  boardgames  "
      ]
     },
     "execution_count": 24,
     "metadata": {},
     "output_type": "execute_result"
    }
   ],
   "source": [
    "submission.head()"
   ]
  },
  {
   "cell_type": "code",
   "execution_count": 25,
   "id": "36f070b6",
   "metadata": {
    "ExecuteTime": {
     "end_time": "2023-02-19T23:02:14.919750Z",
     "start_time": "2023-02-19T23:02:14.916740Z"
    }
   },
   "outputs": [
    {
     "data": {
      "text/plain": [
       "winter_sport    217\n",
       "esport          215\n",
       "basketball      211\n",
       "volleyball      209\n",
       "boardgames      204\n",
       "motosport       204\n",
       "hockey          203\n",
       "tennis          203\n",
       "athletics       202\n",
       "football        201\n",
       "martial_arts    200\n",
       "autosport       182\n",
       "extreme         175\n",
       "Name: category, dtype: int64"
      ]
     },
     "execution_count": 25,
     "metadata": {},
     "output_type": "execute_result"
    }
   ],
   "source": [
    "submission['category'].value_counts()"
   ]
  },
  {
   "cell_type": "code",
   "execution_count": 26,
   "id": "8ff05fb7",
   "metadata": {
    "ExecuteTime": {
     "end_time": "2023-02-19T23:02:14.927331Z",
     "start_time": "2023-02-19T23:02:14.920496Z"
    }
   },
   "outputs": [],
   "source": [
    "# сохраняем результат\n",
    "submission = submission[['oid', 'category']]\n",
    "submission.to_csv('sub/output.csv', index=False)"
   ]
  },
  {
   "cell_type": "markdown",
   "id": "20e7da2f",
   "metadata": {},
   "source": [
    "# Время выполнения"
   ]
  },
  {
   "cell_type": "code",
   "execution_count": 27,
   "id": "21ee9b1d",
   "metadata": {
    "ExecuteTime": {
     "end_time": "2023-02-19T23:02:14.930139Z",
     "start_time": "2023-02-19T23:02:14.928231Z"
    }
   },
   "outputs": [
    {
     "name": "stdout",
     "output_type": "stream",
     "text": [
      "Время выполнения 0:07:50.783163\n"
     ]
    }
   ],
   "source": [
    "time_finish_all = datetime.now() - time_start_all\n",
    "# время обучения\n",
    "print(f'Время выполнения {time_finish_all}')"
   ]
  },
  {
   "cell_type": "code",
   "execution_count": null,
   "id": "ecdcbe3b",
   "metadata": {},
   "outputs": [],
   "source": []
  }
 ],
 "metadata": {
  "kernelspec": {
   "display_name": "Python 3 (ipykernel)",
   "language": "python",
   "name": "python3"
  },
  "language_info": {
   "codemirror_mode": {
    "name": "ipython",
    "version": 3
   },
   "file_extension": ".py",
   "mimetype": "text/x-python",
   "name": "python",
   "nbconvert_exporter": "python",
   "pygments_lexer": "ipython3",
   "version": "3.10.8"
  },
  "toc": {
   "base_numbering": 1,
   "nav_menu": {},
   "number_sections": true,
   "sideBar": true,
   "skip_h1_title": false,
   "title_cell": "Table of Contents",
   "title_sidebar": "Contents",
   "toc_cell": false,
   "toc_position": {},
   "toc_section_display": true,
   "toc_window_display": false
  },
  "varInspector": {
   "cols": {
    "lenName": 16,
    "lenType": 16,
    "lenVar": 40
   },
   "kernels_config": {
    "python": {
     "delete_cmd_postfix": "",
     "delete_cmd_prefix": "del ",
     "library": "var_list.py",
     "varRefreshCmd": "print(var_dic_list())"
    },
    "r": {
     "delete_cmd_postfix": ") ",
     "delete_cmd_prefix": "rm(",
     "library": "var_list.r",
     "varRefreshCmd": "cat(var_dic_list()) "
    }
   },
   "types_to_exclude": [
    "module",
    "function",
    "builtin_function_or_method",
    "instance",
    "_Feature"
   ],
   "window_display": false
  }
 },
 "nbformat": 4,
 "nbformat_minor": 5
}
